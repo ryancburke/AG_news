{
  "nbformat": 4,
  "nbformat_minor": 0,
  "metadata": {
    "colab": {
      "name": "bert-sentence-embeddings.ipynb",
      "provenance": [],
      "authorship_tag": "ABX9TyO413swN05uSY5NlGJsmAqW",
      "include_colab_link": true
    },
    "kernelspec": {
      "name": "python3",
      "display_name": "Python 3"
    },
    "language_info": {
      "name": "python"
    },
    "accelerator": "GPU"
  },
  "cells": [
    {
      "cell_type": "markdown",
      "metadata": {
        "id": "view-in-github",
        "colab_type": "text"
      },
      "source": [
        "<a href=\"https://colab.research.google.com/github/ryancburke/AG_news/blob/main/bert_sentence_embeddings.ipynb\" target=\"_parent\"><img src=\"https://colab.research.google.com/assets/colab-badge.svg\" alt=\"Open In Colab\"/></a>"
      ]
    },
    {
      "cell_type": "code",
      "metadata": {
        "colab": {
          "base_uri": "https://localhost:8080/"
        },
        "id": "30C6sdTtwjex",
        "outputId": "7df5c56b-dc8d-4656-a8d3-04496d3a3ece"
      },
      "source": [
        "import os\n",
        "\n",
        "# Install java\n",
        "! apt-get update -qq\n",
        "! apt-get install -y openjdk-8-jdk-headless -qq > /dev/null\n",
        "\n",
        "os.environ[\"JAVA_HOME\"] = \"/usr/lib/jvm/java-8-openjdk-amd64\"\n",
        "os.environ[\"PATH\"] = os.environ[\"JAVA_HOME\"] + \"/bin:\" + os.environ[\"PATH\"]\n",
        "! java -version\n",
        "\n",
        "# Install pyspark\n",
        "! pip install --ignore-installed -q pyspark==2.4.4\n",
        "! pip install --ignore-installed -q spark-nlp==2.7.1"
      ],
      "execution_count": 5,
      "outputs": [
        {
          "output_type": "stream",
          "text": [
            "openjdk version \"1.8.0_282\"\n",
            "OpenJDK Runtime Environment (build 1.8.0_282-8u282-b08-0ubuntu1~18.04-b08)\n",
            "OpenJDK 64-Bit Server VM (build 25.282-b08, mixed mode)\n"
          ],
          "name": "stdout"
        }
      ]
    },
    {
      "cell_type": "code",
      "metadata": {
        "colab": {
          "base_uri": "https://localhost:8080/",
          "height": 247
        },
        "id": "l-oor345yWqh",
        "outputId": "4f777149-0bc2-4eee-9edc-2f75bccb69fe"
      },
      "source": [
        "import sparknlp\n",
        "\n",
        "spark = sparknlp.start(gpu = True) # for GPU training >> sparknlp.start(gpu = True) # for Spark 2.3 =>> sparknlp.start(spark23 = True)\n",
        "\n",
        "from sparknlp.base import *\n",
        "from sparknlp.annotator import *\n",
        "from pyspark.ml import Pipeline\n",
        "import pandas as pd\n",
        "\n",
        "print(\"Spark NLP version\", sparknlp.version())\n",
        "\n",
        "print(\"Apache Spark version:\", spark.version)\n",
        "\n",
        "spark"
      ],
      "execution_count": 6,
      "outputs": [
        {
          "output_type": "stream",
          "text": [
            "Spark NLP version 2.7.1\n",
            "Apache Spark version: 2.4.4\n"
          ],
          "name": "stdout"
        },
        {
          "output_type": "execute_result",
          "data": {
            "text/html": [
              "\n",
              "            <div>\n",
              "                <p><b>SparkSession - in-memory</b></p>\n",
              "                \n",
              "        <div>\n",
              "            <p><b>SparkContext</b></p>\n",
              "\n",
              "            <p><a href=\"http://1626cc35c636:4040\">Spark UI</a></p>\n",
              "\n",
              "            <dl>\n",
              "              <dt>Version</dt>\n",
              "                <dd><code>v2.4.4</code></dd>\n",
              "              <dt>Master</dt>\n",
              "                <dd><code>local[*]</code></dd>\n",
              "              <dt>AppName</dt>\n",
              "                <dd><code>Spark NLP</code></dd>\n",
              "            </dl>\n",
              "        </div>\n",
              "        \n",
              "            </div>\n",
              "        "
            ],
            "text/plain": [
              "<pyspark.sql.session.SparkSession at 0x7f424a9a31d0>"
            ]
          },
          "metadata": {
            "tags": []
          },
          "execution_count": 6
        }
      ]
    },
    {
      "cell_type": "code",
      "metadata": {
        "colab": {
          "base_uri": "https://localhost:8080/"
        },
        "id": "UgdtDVmxyZRZ",
        "outputId": "03516dfb-c67e-47e7-8393-b7b5970068da"
      },
      "source": [
        "! wget https://raw.githubusercontent.com/JohnSnowLabs/spark-nlp-workshop/master/tutorials/Certification_Trainings/Public/data/news_category_train.csv\n",
        "! wget https://raw.githubusercontent.com/JohnSnowLabs/spark-nlp-workshop/master/tutorials/Certification_Trainings/Public/data/news_category_test.csv\n"
      ],
      "execution_count": 16,
      "outputs": [
        {
          "output_type": "stream",
          "text": [
            "--2021-03-24 15:45:59--  https://raw.githubusercontent.com/JohnSnowLabs/spark-nlp-workshop/master/tutorials/Certification_Trainings/Public/data/news_category_train.csv\n",
            "Resolving raw.githubusercontent.com (raw.githubusercontent.com)... 185.199.109.133, 185.199.111.133, 185.199.108.133, ...\n",
            "Connecting to raw.githubusercontent.com (raw.githubusercontent.com)|185.199.109.133|:443... connected.\n",
            "HTTP request sent, awaiting response... 200 OK\n",
            "Length: 24032125 (23M) [text/plain]\n",
            "Saving to: ‘news_category_train.csv.4’\n",
            "\n",
            "news_category_train 100%[===================>]  22.92M  90.7MB/s    in 0.3s    \n",
            "\n",
            "2021-03-24 15:46:00 (90.7 MB/s) - ‘news_category_train.csv.4’ saved [24032125/24032125]\n",
            "\n",
            "--2021-03-24 15:46:00--  https://raw.githubusercontent.com/JohnSnowLabs/spark-nlp-workshop/master/tutorials/Certification_Trainings/Public/data/news_category_test.csv\n",
            "Resolving raw.githubusercontent.com (raw.githubusercontent.com)... 185.199.108.133, 185.199.109.133, 185.199.111.133, ...\n",
            "Connecting to raw.githubusercontent.com (raw.githubusercontent.com)|185.199.108.133|:443... connected.\n",
            "HTTP request sent, awaiting response... 200 OK\n",
            "Length: 1504408 (1.4M) [text/plain]\n",
            "Saving to: ‘news_category_test.csv.4’\n",
            "\n",
            "news_category_test. 100%[===================>]   1.43M  --.-KB/s    in 0.06s   \n",
            "\n",
            "2021-03-24 15:46:00 (26.0 MB/s) - ‘news_category_test.csv.4’ saved [1504408/1504408]\n",
            "\n"
          ],
          "name": "stdout"
        }
      ]
    },
    {
      "cell_type": "code",
      "metadata": {
        "colab": {
          "base_uri": "https://localhost:8080/"
        },
        "id": "IzpG9u0jz0xT",
        "outputId": "7b41b818-24ff-4c85-afb6-0dd059b40c45"
      },
      "source": [
        "df = spark.read \\\n",
        "      .option(\"header\", True) \\\n",
        "      .csv(\"news_category_train.csv.4\")\n",
        "\n",
        "df.show(truncate=50)"
      ],
      "execution_count": 17,
      "outputs": [
        {
          "output_type": "stream",
          "text": [
            "+--------+--------------------------------------------------+\n",
            "|category|                                       description|\n",
            "+--------+--------------------------------------------------+\n",
            "|Business| Short sellers, Wall Street's dwindling band of...|\n",
            "|Business| Private investment firm Carlyle Group, which h...|\n",
            "|Business| Soaring crude prices plus worries about the ec...|\n",
            "|Business| Authorities have halted oil export flows from ...|\n",
            "|Business| Tearaway world oil prices, toppling records an...|\n",
            "|Business| Stocks ended slightly higher on Friday but sta...|\n",
            "|Business| Assets of the nation's retail money market mut...|\n",
            "|Business| Retail sales bounced back a bit in July, and n...|\n",
            "|Business|\" After earning a PH.D. in Sociology, Danny Baz...|\n",
            "|Business| Short sellers, Wall Street's dwindling  band o...|\n",
            "|Business| Soaring crude prices plus worries  about the e...|\n",
            "|Business| OPEC can do nothing to douse scorching  oil pr...|\n",
            "|Business| Non OPEC oil exporters should consider  increa...|\n",
            "|Business| WASHINGTON/NEW YORK (Reuters) - The auction fo...|\n",
            "|Business| The dollar tumbled broadly on Friday  after da...|\n",
            "|Business|If you think you may need to help your elderly ...|\n",
            "|Business|The purchasing power of kids is a big part of w...|\n",
            "|Business|There is little cause for celebration in the st...|\n",
            "|Business|The US trade deficit has exploded 19 to a recor...|\n",
            "|Business|Oil giant Shell could be bracing itself for a t...|\n",
            "+--------+--------------------------------------------------+\n",
            "only showing top 20 rows\n",
            "\n"
          ],
          "name": "stdout"
        }
      ]
    },
    {
      "cell_type": "code",
      "metadata": {
        "colab": {
          "base_uri": "https://localhost:8080/"
        },
        "id": "MLvsrmah6r0K",
        "outputId": "0dc88c17-16eb-4c97-d4a8-ea58bfcc217e"
      },
      "source": [
        "from pyspark.sql.functions import col\n",
        "df.groupBy(\"category\") \\\n",
        "    .count() \\\n",
        "    .orderBy(col(\"count\").desc()) \\\n",
        "    .show()"
      ],
      "execution_count": 19,
      "outputs": [
        {
          "output_type": "stream",
          "text": [
            "+--------+-----+\n",
            "|category|count|\n",
            "+--------+-----+\n",
            "|   World|30000|\n",
            "|  Sports|30000|\n",
            "|Sci/Tech|30000|\n",
            "|Business|30000|\n",
            "+--------+-----+\n",
            "\n"
          ],
          "name": "stdout"
        }
      ]
    },
    {
      "cell_type": "code",
      "metadata": {
        "colab": {
          "base_uri": "https://localhost:8080/"
        },
        "id": "640z0f8u6138",
        "outputId": "a93d9e5b-973e-45f5-fb11-ec0129774819"
      },
      "source": [
        "(train_df, val_df) = df.randomSplit([0.7, 0.3], seed = 8)\n",
        "print(\"Training Dataset Count: \" + str(train_df.count()))\n",
        "print(\"Validation Dataset Count: \" + str(val_df.count()))"
      ],
      "execution_count": 20,
      "outputs": [
        {
          "output_type": "stream",
          "text": [
            "Training Dataset Count: 84018\n",
            "Validation Dataset Count: 35982\n"
          ],
          "name": "stdout"
        }
      ]
    },
    {
      "cell_type": "code",
      "metadata": {
        "colab": {
          "base_uri": "https://localhost:8080/"
        },
        "id": "0X-he2WZ66-K",
        "outputId": "acfc1cb8-6e64-4bc5-a616-03e8763aa013"
      },
      "source": [
        "# actual content is inside description column\n",
        "document = DocumentAssembler() \\\n",
        ".setInputCol(\"description\") \\\n",
        ".setOutputCol(\"document\") \\\n",
        ".setCleanupMode(\"shrink\")\n",
        "\n",
        "bert = BertSentenceEmbeddings.pretrained('sent_bert_base_cased') \\\n",
        ".setInputCols(\"document\") \\\n",
        ".setOutputCol(\"bert_sentence_embeddings\") \\\n",
        ".setLazyAnnotator(False)\n",
        "\n",
        "# the classes/labels/categories are in category column\n",
        "classifierdl = ClassifierDLApproach()\\\n",
        ".setInputCols([\"bert_sentence_embeddings\"])\\\n",
        ".setOutputCol(\"class\")\\\n",
        ".setLabelColumn(\"category\")\\\n",
        ".setMaxEpochs(4)\\\n",
        ".setLr(0.001)\\\n",
        ".setBatchSize(64)\\\n",
        ".setEnableOutputLogs(True)\n",
        "#.setOutputLogsPath('logs')\n",
        "\n",
        "pipeline = Pipeline(\n",
        "    stages = [\n",
        "        document,\n",
        "        bert,\n",
        "        classifierdl\n",
        "    ])"
      ],
      "execution_count": 21,
      "outputs": [
        {
          "output_type": "stream",
          "text": [
            "sent_bert_base_cased download started this may take some time.\n",
            "Approximate size to download 389.1 MB\n",
            "[OK!]\n"
          ],
          "name": "stdout"
        }
      ]
    },
    {
      "cell_type": "code",
      "metadata": {
        "colab": {
          "base_uri": "https://localhost:8080/"
        },
        "id": "wmNZXUcO7LC4",
        "outputId": "e857445e-063f-41e2-b538-5b72d960971a"
      },
      "source": [
        "%%time\n",
        "pipelineModel = pipeline.fit(train_df)"
      ],
      "execution_count": 22,
      "outputs": [
        {
          "output_type": "stream",
          "text": [
            "CPU times: user 97.1 ms, sys: 22.2 ms, total: 119 ms\n",
            "Wall time: 9min 30s\n"
          ],
          "name": "stdout"
        }
      ]
    },
    {
      "cell_type": "code",
      "metadata": {
        "id": "A8JPUtPO7NzY"
      },
      "source": [
        "# get the predictions on validation Set\n",
        "\n",
        "preds = pipelineModel.transform(val_df)"
      ],
      "execution_count": 23,
      "outputs": []
    },
    {
      "cell_type": "code",
      "metadata": {
        "colab": {
          "base_uri": "https://localhost:8080/"
        },
        "id": "CjJFen8q7O83",
        "outputId": "2dd3218d-5541-438e-e51a-486b51f80792"
      },
      "source": [
        "preds.select('description','category',\"class.result\").show(10, truncate=100)"
      ],
      "execution_count": 24,
      "outputs": [
        {
          "output_type": "stream",
          "text": [
            "+----------------------------------------------------------------------------------------------------+--------+----------+\n",
            "|                                                                                         description|category|    result|\n",
            "+----------------------------------------------------------------------------------------------------+--------+----------+\n",
            "|  ''The Oprah Winfrey Show quot; was the best advertising an estimated  $8 million could buy for ...|Business|[Business]|\n",
            "|  A  $120 million fine levied on Royal Dutch/Shell Group by the Securities and Exchange Commissio...|Business|[Business]|\n",
            "|  A Colorado assistant store manager at Costco has filed a federal lawsuit, alleging she was pass...|Business|[Business]|\n",
            "|  A drop in oil prices and upbeat outlooks from Wal Mart and Lowe's helped send stocks sharply hi...|Business|[Business]|\n",
            "|  A federal bankruptcy judge ruled against United Airlines yesterday in a procedural dispute, sid...|Business|[Business]|\n",
            "|  A federal initiative to repay investors who lost money because of corporate wrongdoing and othe...|Business|[Business]|\n",
            "|  A federal judge Tuesday delayed the trial of former WorldCom chief Bernard Ebbers until Jan. 17...|Business|[Business]|\n",
            "|  A federal judge today ordered Martha Stewart to surrender for prison by October 8th, granting a...|Business|[Business]|\n",
            "|  A group led by privately held Colony Capital is close to reaching an agreement to buy the Atlan...|Business|[Business]|\n",
            "|  A major rewrite of corporate tax law that would end a trade dispute with Europe won congression...|Business|[Business]|\n",
            "+----------------------------------------------------------------------------------------------------+--------+----------+\n",
            "only showing top 10 rows\n",
            "\n"
          ],
          "name": "stdout"
        }
      ]
    },
    {
      "cell_type": "code",
      "metadata": {
        "id": "MlduuxDV7Vjq"
      },
      "source": [
        "preds_df = preds.select('description','category',\"class.result\").toPandas()\n",
        "\n",
        "# The result is an array since in Spark NLP you can have multiple sentences.\n",
        "# Let's explode the array and get the item(s) inside of result column out\n",
        "preds_df['result'] = preds_df['result'].apply(lambda x : x[0])"
      ],
      "execution_count": 25,
      "outputs": []
    },
    {
      "cell_type": "code",
      "metadata": {
        "colab": {
          "base_uri": "https://localhost:8080/"
        },
        "id": "iC_DalJs7j3A",
        "outputId": "bb811b2c-6be6-417f-8fc8-129cec70e1a2"
      },
      "source": [
        "# We are going to use sklearn to evalute the results on test dataset\n",
        "from sklearn.metrics import classification_report\n",
        "\n",
        "print (classification_report(preds_df['result'], preds_df['category']))"
      ],
      "execution_count": 26,
      "outputs": [
        {
          "output_type": "stream",
          "text": [
            "              precision    recall  f1-score   support\n",
            "\n",
            "    Business       0.86      0.85      0.86      8974\n",
            "    Sci/Tech       0.89      0.85      0.87      9266\n",
            "      Sports       0.98      0.95      0.97      9332\n",
            "       World       0.87      0.94      0.90      8410\n",
            "\n",
            "    accuracy                           0.90     35982\n",
            "   macro avg       0.90      0.90      0.90     35982\n",
            "weighted avg       0.90      0.90      0.90     35982\n",
            "\n"
          ],
          "name": "stdout"
        }
      ]
    }
  ]
}